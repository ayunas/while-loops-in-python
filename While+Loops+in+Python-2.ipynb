{
 "cells": [
  {
   "cell_type": "markdown",
   "metadata": {},
   "source": [
    "While Loops in Python\n",
    "\n",
    "simple example of using a while loop in python"
   ]
  },
  {
   "cell_type": "code",
   "execution_count": null,
   "metadata": {
    "collapsed": true
   },
   "outputs": [],
   "source": [
    "i = 0\n",
    "while(i < 21):\n",
    "    i = i+1\n",
    "    print(i)\n",
    "    "
   ]
  },
  {
   "cell_type": "markdown",
   "metadata": {},
   "source": [
    "Temperature While Loop"
   ]
  },
  {
   "cell_type": "code",
   "execution_count": null,
   "metadata": {
    "collapsed": true
   },
   "outputs": [],
   "source": [
    "temp = 250\n",
    "while(temp > 212):\n",
    "    temp = temp - 2\n",
    "    print(\"the temperature is too hot!\")\n",
    "    print(\"it's at\", temp)\n",
    "   "
   ]
  },
  {
   "cell_type": "markdown",
   "metadata": {},
   "source": [
    "Using the Appending method of a list in a While Loop"
   ]
  },
  {
   "cell_type": "code",
   "execution_count": 1,
   "metadata": {},
   "outputs": [
    {
     "name": "stdout",
     "output_type": "stream",
     "text": [
      "[4, 6, 8]\n"
     ]
    }
   ],
   "source": [
    "nums = list()\n",
    "i = 4\n",
    "while (i < 9):\n",
    "    nums.append(i)\n",
    "    i = i+2\n",
    "print(nums)"
   ]
  },
  {
   "cell_type": "code",
   "execution_count": 2,
   "metadata": {},
   "outputs": [
    {
     "name": "stdout",
     "output_type": "stream",
     "text": [
      "[0, 1, 2, 3, 4, 5, 6, 7, 8, 9, 10, 11, 12, 13, 14, 15, 16, 17, 18, 19, 20, 21, 22, 23, 24, 25, 26, 27, 28, 29, 30]\n"
     ]
    }
   ],
   "source": [
    "thirty = list()\n",
    "i = 0\n",
    "while (i < 31):\n",
    "    thirty.append(i)\n",
    "    i = i+1\n",
    "print(thirty)"
   ]
  },
  {
   "cell_type": "markdown",
   "metadata": {},
   "source": [
    "While Loops using the Range Function"
   ]
  },
  {
   "cell_type": "code",
   "execution_count": 3,
   "metadata": {},
   "outputs": [
    {
     "name": "stdout",
     "output_type": "stream",
     "text": [
      "[4, 6, 8]\n"
     ]
    }
   ],
   "source": [
    "nums = range(4,9,2)\n",
    "print(list(nums))"
   ]
  },
  {
   "cell_type": "code",
   "execution_count": 5,
   "metadata": {},
   "outputs": [
    {
     "name": "stdout",
     "output_type": "stream",
     "text": [
      "[0, 1, 2, 3, 4, 5, 6, 7, 8, 9, 10, 11, 12, 13, 14, 15, 16, 17, 18, 19, 20, 21, 22, 23, 24, 25, 26, 27, 28, 29, 30]\n"
     ]
    }
   ],
   "source": [
    "thirty = range(0,31,1)\n",
    "print(list(thirty))"
   ]
  },
  {
   "cell_type": "code",
   "execution_count": 6,
   "metadata": {},
   "outputs": [
    {
     "data": {
      "text/plain": [
       "[10, 9, 8, 7, 6, 5, 4, 3, 2, 1]"
      ]
     },
     "execution_count": 6,
     "metadata": {},
     "output_type": "execute_result"
    }
   ],
   "source": [
    "list(range(10,0,-1))"
   ]
  },
  {
   "cell_type": "markdown",
   "metadata": {},
   "source": [
    "Create a list of boiling temperature going down 1 degree at a time until it no longer boils."
   ]
  },
  {
   "cell_type": "code",
   "execution_count": 10,
   "metadata": {},
   "outputs": [
    {
     "name": "stdout",
     "output_type": "stream",
     "text": [
      "[275, 274, 273, 272, 271, 270, 269, 268, 267, 266, 265, 264, 263, 262, 261, 260, 259, 258, 257, 256, 255, 254, 253, 252, 251, 250, 249, 248, 247, 246, 245, 244, 243, 242, 241, 240, 239, 238, 237, 236, 235, 234, 233, 232, 231, 230, 229, 228, 227, 226, 225, 224, 223, 222, 221, 220, 219, 218, 217, 216, 215, 214, 213, 212]\n"
     ]
    }
   ],
   "source": [
    "boiling = list(range(275,211,-1))\n",
    "print (boiling)"
   ]
  },
  {
   "cell_type": "markdown",
   "metadata": {},
   "source": [
    "Blastoff Timer "
   ]
  },
  {
   "cell_type": "code",
   "execution_count": 12,
   "metadata": {},
   "outputs": [
    {
     "name": "stdout",
     "output_type": "stream",
     "text": [
      "10\n",
      "9\n",
      "8\n",
      "7\n",
      "6\n",
      "5\n",
      "4\n",
      "3\n",
      "2\n",
      "1\n",
      "blastoff!\n"
     ]
    }
   ],
   "source": [
    "#Blastoff\n",
    "\n",
    "for i in range(10,0, -1):\n",
    "    print(i)\n",
    "print(\"blastoff!\")"
   ]
  },
  {
   "cell_type": "markdown",
   "metadata": {},
   "source": [
    "lines in a list"
   ]
  },
  {
   "cell_type": "code",
   "execution_count": 3,
   "metadata": {},
   "outputs": [
    {
     "name": "stdout",
     "output_type": "stream",
     "text": [
      "How many lines do you want to enter?2\n",
      "next line: 1\n",
      "next line: 2\n",
      "your lines were:\n",
      "1\n",
      "2\n"
     ]
    }
   ],
   "source": [
    "lines = list() #create a new list\n",
    "n = int(input(\"How many lines do you want to enter?\")) #define n as an integer input from user \n",
    "for i in range(n):  #n is number of lines to input\n",
    "    line = input(\"next line: \")  #line = variable that takes input of user's line\n",
    "    lines.append(line)  #take the value of the line input and add it to the list of inputs the user entered\n",
    "    \n",
    "print(\"your lines were:\") #check the user's lines.  \n",
    "for line in lines:  #for loop to print all the lines in the list lines\n",
    "    print(line)"
   ]
  },
  {
   "cell_type": "markdown",
   "metadata": {},
   "source": [
    "Monthly Activities"
   ]
  },
  {
   "cell_type": "code",
   "execution_count": 4,
   "metadata": {},
   "outputs": [
    {
     "name": "stdout",
     "output_type": "stream",
     "text": [
      "how many activities do you have?3\n",
      "what activity this month? jogging\n",
      "what activity this month? climbing\n",
      "what activity this month? tennis\n",
      "your activites are\n",
      "jogging\n",
      "climbing\n",
      "tennis\n"
     ]
    }
   ],
   "source": [
    "monthly_activities = list() #create a list of monthly activites\n",
    "\n",
    "n = int(input(\"how many activities do you have?\"))\n",
    "for i in range(n):\n",
    "    \n",
    "    activity = input(\"what activity this month? \")  #store an input activity into the variable activity\n",
    "    monthly_activities.append(activity)  #store the input activity into a the list monthly activites\n",
    "    \n",
    "print(\"your activites are\")\n",
    "for activity in monthly_activities: \n",
    "    print(activity)\n",
    "\n",
    "\n",
    "\n",
    "    "
   ]
  },
  {
   "cell_type": "markdown",
   "metadata": {},
   "source": [
    "input lines until user hits enter"
   ]
  },
  {
   "cell_type": "code",
   "execution_count": 5,
   "metadata": {},
   "outputs": [
    {
     "name": "stdout",
     "output_type": "stream",
     "text": [
      "Enter lines of text.\n",
      "enter an empty line to quit.\n",
      "next line: j\n",
      "next line: i\n",
      "next line: u\n",
      "next line: \n",
      "your lines are: ['j', 'i', 'u']\n"
     ]
    }
   ],
   "source": [
    "lines = list()  #create a list named:  lines\n",
    "print('Enter lines of text.')   \n",
    "print('enter an empty line to quit.')\n",
    "\n",
    "line = input('next line: ')  #create a user input variable line\n",
    "\n",
    "while line != '':  #while loop:  so long as the user input variable line doesn't blank\n",
    "    lines.append(line) #append the list lines with the user input variable line\n",
    "    line = input('next line: ')\n",
    "\n",
    "print(\"your lines are:\", lines)"
   ]
  },
  {
   "cell_type": "code",
   "execution_count": null,
   "metadata": {},
   "outputs": [
    {
     "name": "stdout",
     "output_type": "stream",
     "text": [
      "enter your line\n"
     ]
    }
   ],
   "source": [
    "lines = list()\n",
    "print(\"enter your line\")\n",
    "\n",
    "line = input(\"enter your line: \")\n",
    "\n",
    "while line != '':\n",
    "    lines.append(line)\n",
    "    line = (input('next line please: '))"
   ]
  },
  {
   "cell_type": "code",
   "execution_count": null,
   "metadata": {
    "collapsed": true
   },
   "outputs": [],
   "source": []
  }
 ],
 "metadata": {
  "kernelspec": {
   "display_name": "Python 3",
   "language": "python",
   "name": "python3"
  },
  "language_info": {
   "codemirror_mode": {
    "name": "ipython",
    "version": 3
   },
   "file_extension": ".py",
   "mimetype": "text/x-python",
   "name": "python",
   "nbconvert_exporter": "python",
   "pygments_lexer": "ipython3",
   "version": "3.6.2"
  }
 },
 "nbformat": 4,
 "nbformat_minor": 2
}
